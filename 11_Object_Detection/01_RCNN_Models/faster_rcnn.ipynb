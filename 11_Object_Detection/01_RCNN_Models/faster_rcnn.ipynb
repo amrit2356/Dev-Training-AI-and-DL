{
 "metadata": {
  "language_info": {
   "codemirror_mode": {
    "name": "ipython",
    "version": 3
   },
   "file_extension": ".py",
   "mimetype": "text/x-python",
   "name": "python",
   "nbconvert_exporter": "python",
   "pygments_lexer": "ipython3",
   "version": "3.8.5"
  },
  "orig_nbformat": 2,
  "kernelspec": {
   "name": "python385jvsc74a57bd07302c8059395cdc13a9e903bf9208cb1e3e40615d7ed913a581aad07181108a4",
   "display_name": "Python 3.8.5 64-bit ('dev-venv': venv)"
  },
  "metadata": {
   "interpreter": {
    "hash": "7302c8059395cdc13a9e903bf9208cb1e3e40615d7ed913a581aad07181108a4"
   }
  }
 },
 "nbformat": 4,
 "nbformat_minor": 2,
 "cells": [
  {
   "source": [],
   "cell_type": "code",
   "metadata": {},
   "execution_count": 3,
   "outputs": [
    {
     "output_type": "stream",
     "name": "stdout",
     "text": [
      "1.8.1+cu111\n"
     ]
    }
   ]
  }
 ]
}